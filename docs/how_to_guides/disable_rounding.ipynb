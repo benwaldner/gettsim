{
 "cells": [
  {
   "cell_type": "markdown",
   "metadata": {},
   "source": [
    "# Disable Rounding of Some Transfers\n",
    "\n",
    "\n",
    "When transfers are calculated, in some cases intermediate results or the final amount need to be rounded based on German law. As a default, GETTSIM also rounds these results. However, we can disable rounding which is for example beneficial if results are used within a numerical optimization. This HowTo describes how you specify if rounding should be applied or not. At the end, some information are given how rounding is implemented at the pre-implemented functions."
   ]
  },
  {
   "cell_type": "code",
   "execution_count": 1,
   "metadata": {},
   "outputs": [],
   "source": [
    "import pandas as pd\n",
    "import numpy as np\n",
    "import matplotlib.pyplot as plt\n",
    "\n",
    "from gettsim import set_up_policy_environment\n",
    "from gettsim import compute_taxes_and_transfers\n",
    "from gettsim.synthetic_data.synthetic import create_synthetic_data"
   ]
  },
  {
   "cell_type": "markdown",
   "metadata": {},
   "source": [
    "## Create synthetic data set and set up policy environment"
   ]
  },
  {
   "cell_type": "code",
   "execution_count": null,
   "metadata": {
    "tags": []
   },
   "outputs": [],
   "source": [
    "## idea for use of synthetical data \n",
    "data = create_synthetic_data(\n",
    "    hh_typen=[\"single\"], \n",
    "     n_children=[0], \n",
    "     age_adults=[70], \n",
    "    heterogeneous_vars={\"bruttolohn_m\": np.arange(0, 1000, 1)}\n",
    ")\n",
    "data[\"rentner\"] = True\n",
    "data[\"entgeltpunkte\"] = np.arange(10, 10.1, 0.0001)\n",
    "data[\"entgeltp_grundr\"] = data[\"entgeltpunkte\"]\n",
    "data.head()"
   ]
  },
  {
   "cell_type": "code",
   "execution_count": null,
   "metadata": {},
   "outputs": [],
   "source": [
    "# Set up policy environment\n",
    "policy_params, policy_functions = set_up_policy_environment(date=2021)\n"
   ]
  },
  {
   "cell_type": "markdown",
   "metadata": {},
   "source": [
    "## Compute Grundrentenzuschlag and Staatliche Rente including rounding \n",
    "\n",
    "The default is that all outputs that are rounded according to German law are also rounded in GETTSIM. \n",
    "\n",
    "One of these variables is the Grundrentenzuschlag (`grundr_zuschlag_m`) which is rounded to two decimal points."
   ]
  },
  {
   "cell_type": "code",
   "execution_count": null,
   "metadata": {},
   "outputs": [],
   "source": [
    "results = compute_taxes_and_transfers(\n",
    "    data=data,\n",
    "    params=policy_params,\n",
    "    targets=[\"grundr_zuschlag_m\", \"staatl_rente_m\"],\n",
    "    functions=policy_functions,\n",
    ")\n",
    "results.head()"
   ]
  },
  {
   "cell_type": "markdown",
   "metadata": {},
   "source": [
    "When zooming in, rounding leads to a step function which is very hard to optimize over."
   ]
  },
  {
   "cell_type": "code",
   "execution_count": null,
   "metadata": {},
   "outputs": [],
   "source": [
    "plt.plot(\"entgeltpunkte\", \"grundr_zuschlag_m\", data=results.join(data).query(\"entgeltpunkte < 10.01\"));"
   ]
  },
  {
   "cell_type": "markdown",
   "metadata": {
    "tags": []
   },
   "source": [
    "## Disable rounding \n",
    "\n",
    "Disabling rounding leads to a smooth relation between `entgeltpunkte` and `grundr_zuschlag_m`"
   ]
  },
  {
   "cell_type": "code",
   "execution_count": null,
   "metadata": {},
   "outputs": [],
   "source": [
    "results = compute_taxes_and_transfers(\n",
    "    data=data,\n",
    "    params=policy_params,\n",
    "    targets=[\"grundr_zuschlag_m\", \"staatl_rente_m\"],\n",
    "    functions=policy_functions,\n",
    "    rounding=False\n",
    ")\n",
    "results.head()"
   ]
  },
  {
   "cell_type": "code",
   "execution_count": null,
   "metadata": {},
   "outputs": [],
   "source": [
    "plt.plot(\"entgeltpunkte\", \"grundr_zuschlag_m\", data=results.join(data).query(\"entgeltpunkte < 10.01\"));"
   ]
  },
  {
   "cell_type": "markdown",
   "metadata": {
    "tags": []
   },
   "source": [
    "## Implementation\n",
    "\n",
    "This subsection gives an impression how it is specified within GETTSIM which functions should be rounded and in which way. For the common user, this subsection can be ignored if you do not plan to implement your own policy functions.\n",
    "\n",
    "Whether a function should be rounded and in which way, is added to the function as attribute."
   ]
  },
  {
   "cell_type": "code",
   "execution_count": null,
   "metadata": {},
   "outputs": [],
   "source": [
    "from gettsim.transfers.grundrente import grundr_zuschlag_m\n",
    "grundr_zuschlag_m.__roundingspec__"
   ]
  },
  {
   "cell_type": "markdown",
   "metadata": {
    "tags": []
   },
   "source": [
    "To add these attributes to functions you have written yourself (see [policy functions tutorial](policy_functions.ipynb)), you can use the function `add_rounding_spec` as decorator as follows:"
   ]
  },
  {
   "cell_type": "code",
   "execution_count": null,
   "metadata": {},
   "outputs": [],
   "source": [
    "from gettsim.shared import add_rounding_spec\n",
    "\n",
    "@add_rounding_spec(base=0.01, direction=\"up\")\n",
    "def your_own_function():\n",
    "    out = 0.2\n",
    "    return out\n",
    "\n",
    "your_own_function.__roundingspec__"
   ]
  },
  {
   "cell_type": "markdown",
   "metadata": {
    "tags": []
   },
   "source": [
    "`direction` needs to be one of 'up', 'down', or 'nearest'"
   ]
  },
  {
   "cell_type": "code",
   "execution_count": null,
   "metadata": {},
   "outputs": [],
   "source": [
    "from gettsim.shared import add_rounding_spec\n",
    "\n",
    "@add_rounding_spec(base=0.01, direction=\"upper\")\n",
    "def your_own_function():\n",
    "    out = 0.2\n",
    "    return out\n",
    "\n",
    "your_own_function.__roundingspec__"
   ]
  }
 ],
 "metadata": {
  "kernelspec": {
   "display_name": "Python 3",
   "language": "python",
   "name": "python3"
  },
  "language_info": {
   "codemirror_mode": {
    "name": "ipython",
    "version": 3
   },
   "file_extension": ".py",
   "mimetype": "text/x-python",
   "name": "python",
   "nbconvert_exporter": "python",
   "pygments_lexer": "ipython3",
   "version": "3.9.5"
  }
 },
 "nbformat": 4,
 "nbformat_minor": 4
}
