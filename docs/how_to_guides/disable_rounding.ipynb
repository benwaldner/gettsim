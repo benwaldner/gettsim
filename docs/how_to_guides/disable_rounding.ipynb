{
 "cells": [
  {
   "cell_type": "markdown",
   "metadata": {},
   "source": [
    "# Disable Rounding of some transfers\n",
    "\n",
    "\n",
    "When transfers are calculated, in some cases intermediate results or the final amount need to be rounded based on German law. As a default, GETTSIM also rounds these results. However, we can disable rounding which is for example beneficial if results are used within a numerical optimization."
   ]
  },
  {
   "cell_type": "code",
   "execution_count": 1,
   "metadata": {},
   "outputs": [],
   "source": [
    "import pandas as pd\n",
    "import numpy as np\n",
    "import matplotlib.pyplot as plt\n",
    "\n",
    "from gettsim import set_up_policy_environment\n",
    "from gettsim import compute_taxes_and_transfers\n",
    "from gettsim import plot_dag\n",
    "from gettsim.synthetic_data.synthetic import create_synthetic_data"
   ]
  },
  {
   "cell_type": "markdown",
   "metadata": {},
   "source": [
    "## Create synthetic data set and set up policy environment"
   ]
  },
  {
   "cell_type": "code",
   "execution_count": 2,
   "metadata": {
    "tags": []
   },
   "outputs": [
    {
     "data": {
      "text/html": [
       "<div>\n",
       "<style scoped>\n",
       "    .dataframe tbody tr th:only-of-type {\n",
       "        vertical-align: middle;\n",
       "    }\n",
       "\n",
       "    .dataframe tbody tr th {\n",
       "        vertical-align: top;\n",
       "    }\n",
       "\n",
       "    .dataframe thead th {\n",
       "        text-align: right;\n",
       "    }\n",
       "</style>\n",
       "<table border=\"1\" class=\"dataframe\">\n",
       "  <thead>\n",
       "    <tr style=\"text-align: right;\">\n",
       "      <th></th>\n",
       "      <th>index</th>\n",
       "      <th>hh_id</th>\n",
       "      <th>tu_id</th>\n",
       "      <th>p_id</th>\n",
       "      <th>hh_typ</th>\n",
       "      <th>kind</th>\n",
       "      <th>bruttolohn_m</th>\n",
       "      <th>alter</th>\n",
       "      <th>rentner</th>\n",
       "      <th>alleinerziehend</th>\n",
       "      <th>...</th>\n",
       "      <th>m_elterngeld_vat</th>\n",
       "      <th>behinderungsgrad</th>\n",
       "      <th>mietstufe</th>\n",
       "      <th>immobilie_baujahr</th>\n",
       "      <th>vermögen_hh</th>\n",
       "      <th>entgeltpunkte</th>\n",
       "      <th>gr_bewertungszeiten</th>\n",
       "      <th>entgeltp_grundr</th>\n",
       "      <th>grundrentenzeiten</th>\n",
       "      <th>prv_rente_m</th>\n",
       "    </tr>\n",
       "  </thead>\n",
       "  <tbody>\n",
       "    <tr>\n",
       "      <th>0</th>\n",
       "      <td>0</td>\n",
       "      <td>0</td>\n",
       "      <td>0</td>\n",
       "      <td>0</td>\n",
       "      <td>single_0_children</td>\n",
       "      <td>False</td>\n",
       "      <td>0</td>\n",
       "      <td>70</td>\n",
       "      <td>True</td>\n",
       "      <td>False</td>\n",
       "      <td>...</td>\n",
       "      <td>0</td>\n",
       "      <td>0</td>\n",
       "      <td>3</td>\n",
       "      <td>1980</td>\n",
       "      <td>0</td>\n",
       "      <td>10.0000</td>\n",
       "      <td>600</td>\n",
       "      <td>10.0000</td>\n",
       "      <td>600</td>\n",
       "      <td>0.0</td>\n",
       "    </tr>\n",
       "    <tr>\n",
       "      <th>1</th>\n",
       "      <td>0</td>\n",
       "      <td>100</td>\n",
       "      <td>100</td>\n",
       "      <td>1</td>\n",
       "      <td>single_0_children</td>\n",
       "      <td>False</td>\n",
       "      <td>1</td>\n",
       "      <td>70</td>\n",
       "      <td>True</td>\n",
       "      <td>False</td>\n",
       "      <td>...</td>\n",
       "      <td>0</td>\n",
       "      <td>0</td>\n",
       "      <td>3</td>\n",
       "      <td>1980</td>\n",
       "      <td>0</td>\n",
       "      <td>10.0001</td>\n",
       "      <td>600</td>\n",
       "      <td>10.0001</td>\n",
       "      <td>600</td>\n",
       "      <td>0.0</td>\n",
       "    </tr>\n",
       "    <tr>\n",
       "      <th>2</th>\n",
       "      <td>0</td>\n",
       "      <td>200</td>\n",
       "      <td>200</td>\n",
       "      <td>2</td>\n",
       "      <td>single_0_children</td>\n",
       "      <td>False</td>\n",
       "      <td>2</td>\n",
       "      <td>70</td>\n",
       "      <td>True</td>\n",
       "      <td>False</td>\n",
       "      <td>...</td>\n",
       "      <td>0</td>\n",
       "      <td>0</td>\n",
       "      <td>3</td>\n",
       "      <td>1980</td>\n",
       "      <td>0</td>\n",
       "      <td>10.0002</td>\n",
       "      <td>600</td>\n",
       "      <td>10.0002</td>\n",
       "      <td>600</td>\n",
       "      <td>0.0</td>\n",
       "    </tr>\n",
       "    <tr>\n",
       "      <th>3</th>\n",
       "      <td>0</td>\n",
       "      <td>300</td>\n",
       "      <td>300</td>\n",
       "      <td>3</td>\n",
       "      <td>single_0_children</td>\n",
       "      <td>False</td>\n",
       "      <td>3</td>\n",
       "      <td>70</td>\n",
       "      <td>True</td>\n",
       "      <td>False</td>\n",
       "      <td>...</td>\n",
       "      <td>0</td>\n",
       "      <td>0</td>\n",
       "      <td>3</td>\n",
       "      <td>1980</td>\n",
       "      <td>0</td>\n",
       "      <td>10.0003</td>\n",
       "      <td>600</td>\n",
       "      <td>10.0003</td>\n",
       "      <td>600</td>\n",
       "      <td>0.0</td>\n",
       "    </tr>\n",
       "    <tr>\n",
       "      <th>4</th>\n",
       "      <td>0</td>\n",
       "      <td>400</td>\n",
       "      <td>400</td>\n",
       "      <td>4</td>\n",
       "      <td>single_0_children</td>\n",
       "      <td>False</td>\n",
       "      <td>4</td>\n",
       "      <td>70</td>\n",
       "      <td>True</td>\n",
       "      <td>False</td>\n",
       "      <td>...</td>\n",
       "      <td>0</td>\n",
       "      <td>0</td>\n",
       "      <td>3</td>\n",
       "      <td>1980</td>\n",
       "      <td>0</td>\n",
       "      <td>10.0004</td>\n",
       "      <td>600</td>\n",
       "      <td>10.0004</td>\n",
       "      <td>600</td>\n",
       "      <td>0.0</td>\n",
       "    </tr>\n",
       "  </tbody>\n",
       "</table>\n",
       "<p>5 rows × 46 columns</p>\n",
       "</div>"
      ],
      "text/plain": [
       "   index  hh_id  tu_id  p_id             hh_typ   kind  bruttolohn_m  alter  \\\n",
       "0      0      0      0     0  single_0_children  False             0     70   \n",
       "1      0    100    100     1  single_0_children  False             1     70   \n",
       "2      0    200    200     2  single_0_children  False             2     70   \n",
       "3      0    300    300     3  single_0_children  False             3     70   \n",
       "4      0    400    400     4  single_0_children  False             4     70   \n",
       "\n",
       "   rentner  alleinerziehend  ...  m_elterngeld_vat  behinderungsgrad  \\\n",
       "0     True            False  ...                 0                 0   \n",
       "1     True            False  ...                 0                 0   \n",
       "2     True            False  ...                 0                 0   \n",
       "3     True            False  ...                 0                 0   \n",
       "4     True            False  ...                 0                 0   \n",
       "\n",
       "   mietstufe  immobilie_baujahr  vermögen_hh  entgeltpunkte  \\\n",
       "0          3               1980            0        10.0000   \n",
       "1          3               1980            0        10.0001   \n",
       "2          3               1980            0        10.0002   \n",
       "3          3               1980            0        10.0003   \n",
       "4          3               1980            0        10.0004   \n",
       "\n",
       "   gr_bewertungszeiten  entgeltp_grundr  grundrentenzeiten  prv_rente_m  \n",
       "0                  600          10.0000                600          0.0  \n",
       "1                  600          10.0001                600          0.0  \n",
       "2                  600          10.0002                600          0.0  \n",
       "3                  600          10.0003                600          0.0  \n",
       "4                  600          10.0004                600          0.0  \n",
       "\n",
       "[5 rows x 46 columns]"
      ]
     },
     "execution_count": 2,
     "metadata": {},
     "output_type": "execute_result"
    }
   ],
   "source": [
    "## idea for use of synthetical data \n",
    "data = create_synthetic_data(\n",
    "    hh_typen=[\"single\"], \n",
    "     n_children=[0], \n",
    "     age_adults=[70], \n",
    "    heterogeneous_vars={\"bruttolohn_m\": np.arange(0, 1000, 1)}\n",
    ")\n",
    "data[\"rentner\"] = True\n",
    "data[\"entgeltpunkte\"] = np.arange(10, 10.1, 0.0001)\n",
    "data[\"entgeltp_grundr\"] = data[\"entgeltpunkte\"]\n",
    "data.head()"
   ]
  },
  {
   "cell_type": "code",
   "execution_count": 3,
   "metadata": {},
   "outputs": [],
   "source": [
    "# Set up policy environment\n",
    "policy_params, policy_functions = set_up_policy_environment(date=2021)\n"
   ]
  },
  {
   "cell_type": "markdown",
   "metadata": {},
   "source": [
    "## Compute Grundrentenzuschlag and Staatliche Rente including rounding \n",
    "\n",
    "(this is the default)"
   ]
  },
  {
   "cell_type": "code",
   "execution_count": 4,
   "metadata": {},
   "outputs": [],
   "source": [
    "results = compute_taxes_and_transfers(\n",
    "    data=data,\n",
    "    params=policy_params,\n",
    "    targets=[\"grundr_zuschlag_m\", \"staatl_rente_m\"],\n",
    "    functions=policy_functions,\n",
    ")"
   ]
  },
  {
   "cell_type": "code",
   "execution_count": 5,
   "metadata": {},
   "outputs": [
    {
     "data": {
      "text/html": [
       "<div>\n",
       "<style scoped>\n",
       "    .dataframe tbody tr th:only-of-type {\n",
       "        vertical-align: middle;\n",
       "    }\n",
       "\n",
       "    .dataframe tbody tr th {\n",
       "        vertical-align: top;\n",
       "    }\n",
       "\n",
       "    .dataframe thead th {\n",
       "        text-align: right;\n",
       "    }\n",
       "</style>\n",
       "<table border=\"1\" class=\"dataframe\">\n",
       "  <thead>\n",
       "    <tr style=\"text-align: right;\">\n",
       "      <th></th>\n",
       "      <th>grundr_zuschlag_m</th>\n",
       "      <th>staatl_rente_m</th>\n",
       "    </tr>\n",
       "  </thead>\n",
       "  <tbody>\n",
       "    <tr>\n",
       "      <th>0</th>\n",
       "      <td>209.41</td>\n",
       "      <td>585.50</td>\n",
       "    </tr>\n",
       "    <tr>\n",
       "      <th>1</th>\n",
       "      <td>209.42</td>\n",
       "      <td>585.52</td>\n",
       "    </tr>\n",
       "    <tr>\n",
       "      <th>2</th>\n",
       "      <td>209.42</td>\n",
       "      <td>585.54</td>\n",
       "    </tr>\n",
       "    <tr>\n",
       "      <th>3</th>\n",
       "      <td>209.42</td>\n",
       "      <td>585.55</td>\n",
       "    </tr>\n",
       "    <tr>\n",
       "      <th>4</th>\n",
       "      <td>209.42</td>\n",
       "      <td>585.57</td>\n",
       "    </tr>\n",
       "    <tr>\n",
       "      <th>...</th>\n",
       "      <td>...</td>\n",
       "      <td>...</td>\n",
       "    </tr>\n",
       "    <tr>\n",
       "      <th>995</th>\n",
       "      <td>211.50</td>\n",
       "      <td>602.14</td>\n",
       "    </tr>\n",
       "    <tr>\n",
       "      <th>996</th>\n",
       "      <td>211.50</td>\n",
       "      <td>602.16</td>\n",
       "    </tr>\n",
       "    <tr>\n",
       "      <th>997</th>\n",
       "      <td>211.50</td>\n",
       "      <td>602.17</td>\n",
       "    </tr>\n",
       "    <tr>\n",
       "      <th>998</th>\n",
       "      <td>211.50</td>\n",
       "      <td>602.19</td>\n",
       "    </tr>\n",
       "    <tr>\n",
       "      <th>999</th>\n",
       "      <td>211.51</td>\n",
       "      <td>602.21</td>\n",
       "    </tr>\n",
       "  </tbody>\n",
       "</table>\n",
       "<p>1000 rows × 2 columns</p>\n",
       "</div>"
      ],
      "text/plain": [
       "     grundr_zuschlag_m  staatl_rente_m\n",
       "0               209.41          585.50\n",
       "1               209.42          585.52\n",
       "2               209.42          585.54\n",
       "3               209.42          585.55\n",
       "4               209.42          585.57\n",
       "..                 ...             ...\n",
       "995             211.50          602.14\n",
       "996             211.50          602.16\n",
       "997             211.50          602.17\n",
       "998             211.50          602.19\n",
       "999             211.51          602.21\n",
       "\n",
       "[1000 rows x 2 columns]"
      ]
     },
     "execution_count": 5,
     "metadata": {},
     "output_type": "execute_result"
    }
   ],
   "source": [
    "results"
   ]
  },
  {
   "cell_type": "markdown",
   "metadata": {},
   "source": [
    "When zooming in, rounding leads to a step function which is very hard to optimize over."
   ]
  },
  {
   "cell_type": "code",
   "execution_count": 6,
   "metadata": {},
   "outputs": [
    {
     "data": {
      "text/plain": [
       "[<matplotlib.lines.Line2D at 0x21aa01fdfd0>]"
      ]
     },
     "execution_count": 6,
     "metadata": {},
     "output_type": "execute_result"
    },
    {
     "data": {
      "image/png": "[encoded data removed]",
      "text/plain": [
       "<Figure size 432x288 with 1 Axes>"
      ]
     },
     "metadata": {
      "needs_background": "light"
     },
     "output_type": "display_data"
    }
   ],
   "source": [
    "plt.plot(\"entgeltpunkte\", \"grundr_zuschlag_m\", data=results.join(data).query(\"entgeltpunkte < 10.01\"))"
   ]
  },
  {
   "cell_type": "markdown",
   "metadata": {
    "tags": []
   },
   "source": [
    "## Disable rounding \n",
    "\n",
    "This leads to a smooth relation between `entgeltpunkte` and `grundr_zuschlag_m`"
   ]
  },
  {
   "cell_type": "code",
   "execution_count": 7,
   "metadata": {},
   "outputs": [],
   "source": [
    "results = compute_taxes_and_transfers(\n",
    "    data=data,\n",
    "    params=policy_params,\n",
    "    targets=[\"grundr_zuschlag_m\", \"staatl_rente_m\"],\n",
    "    functions=policy_functions,\n",
    "    rounding=False\n",
    ")"
   ]
  },
  {
   "cell_type": "code",
   "execution_count": 8,
   "metadata": {},
   "outputs": [
    {
     "data": {
      "text/html": [
       "<div>\n",
       "<style scoped>\n",
       "    .dataframe tbody tr th:only-of-type {\n",
       "        vertical-align: middle;\n",
       "    }\n",
       "\n",
       "    .dataframe tbody tr th {\n",
       "        vertical-align: top;\n",
       "    }\n",
       "\n",
       "    .dataframe thead th {\n",
       "        text-align: right;\n",
       "    }\n",
       "</style>\n",
       "<table border=\"1\" class=\"dataframe\">\n",
       "  <thead>\n",
       "    <tr style=\"text-align: right;\">\n",
       "      <th></th>\n",
       "      <th>grundr_zuschlag_m</th>\n",
       "      <th>staatl_rente_m</th>\n",
       "    </tr>\n",
       "  </thead>\n",
       "  <tbody>\n",
       "    <tr>\n",
       "      <th>0</th>\n",
       "      <td>209.413750</td>\n",
       "      <td>585.503750</td>\n",
       "    </tr>\n",
       "    <tr>\n",
       "      <th>1</th>\n",
       "      <td>209.415844</td>\n",
       "      <td>585.520469</td>\n",
       "    </tr>\n",
       "    <tr>\n",
       "      <th>2</th>\n",
       "      <td>209.417938</td>\n",
       "      <td>585.537188</td>\n",
       "    </tr>\n",
       "    <tr>\n",
       "      <th>3</th>\n",
       "      <td>209.420032</td>\n",
       "      <td>585.553908</td>\n",
       "    </tr>\n",
       "    <tr>\n",
       "      <th>4</th>\n",
       "      <td>209.422127</td>\n",
       "      <td>585.570627</td>\n",
       "    </tr>\n",
       "    <tr>\n",
       "      <th>...</th>\n",
       "      <td>...</td>\n",
       "      <td>...</td>\n",
       "    </tr>\n",
       "    <tr>\n",
       "      <th>995</th>\n",
       "      <td>211.497417</td>\n",
       "      <td>602.139350</td>\n",
       "    </tr>\n",
       "    <tr>\n",
       "      <th>996</th>\n",
       "      <td>211.499511</td>\n",
       "      <td>602.156069</td>\n",
       "    </tr>\n",
       "    <tr>\n",
       "      <th>997</th>\n",
       "      <td>211.501605</td>\n",
       "      <td>602.172788</td>\n",
       "    </tr>\n",
       "    <tr>\n",
       "      <th>998</th>\n",
       "      <td>211.503699</td>\n",
       "      <td>602.189507</td>\n",
       "    </tr>\n",
       "    <tr>\n",
       "      <th>999</th>\n",
       "      <td>211.505793</td>\n",
       "      <td>602.206227</td>\n",
       "    </tr>\n",
       "  </tbody>\n",
       "</table>\n",
       "<p>1000 rows × 2 columns</p>\n",
       "</div>"
      ],
      "text/plain": [
       "     grundr_zuschlag_m  staatl_rente_m\n",
       "0           209.413750      585.503750\n",
       "1           209.415844      585.520469\n",
       "2           209.417938      585.537188\n",
       "3           209.420032      585.553908\n",
       "4           209.422127      585.570627\n",
       "..                 ...             ...\n",
       "995         211.497417      602.139350\n",
       "996         211.499511      602.156069\n",
       "997         211.501605      602.172788\n",
       "998         211.503699      602.189507\n",
       "999         211.505793      602.206227\n",
       "\n",
       "[1000 rows x 2 columns]"
      ]
     },
     "execution_count": 8,
     "metadata": {},
     "output_type": "execute_result"
    }
   ],
   "source": [
    "results"
   ]
  },
  {
   "cell_type": "code",
   "execution_count": 9,
   "metadata": {},
   "outputs": [
    {
     "data": {
      "text/plain": [
       "[<matplotlib.lines.Line2D at 0x21aa01d0d30>]"
      ]
     },
     "execution_count": 9,
     "metadata": {},
     "output_type": "execute_result"
    },
    {
     "data": {
      "image/png": "[encoded data removed]",
      "text/plain": [
       "<Figure size 432x288 with 1 Axes>"
      ]
     },
     "metadata": {
      "needs_background": "light"
     },
     "output_type": "display_data"
    }
   ],
   "source": [
    "plt.plot(\"entgeltpunkte\", \"grundr_zuschlag_m\", data=results.join(data).query(\"entgeltpunkte < 10.01\"))"
   ]
  },
  {
   "cell_type": "markdown",
   "metadata": {
    "tags": []
   },
   "source": [
    "## Implementation\n",
    "\n",
    "Whether a function should be rounded and in which way, is added to the function as attribute."
   ]
  },
  {
   "cell_type": "code",
   "execution_count": 10,
   "metadata": {},
   "outputs": [
    {
     "data": {
      "text/plain": [
       "{'base': 0.01, 'direction': 'nearest'}"
      ]
     },
     "execution_count": 10,
     "metadata": {},
     "output_type": "execute_result"
    }
   ],
   "source": [
    "from gettsim.transfers.grundrente import grundr_zuschlag_m\n",
    "grundr_zuschlag_m.__roundingspec__"
   ]
  },
  {
   "cell_type": "markdown",
   "metadata": {
    "tags": []
   },
   "source": [
    "To add these attributes to functions you have written yourself (see [policy functions tutorial](policy_functions.ipynb)), you can use the function `add_rounding_spec` as decorator as follows:"
   ]
  },
  {
   "cell_type": "code",
   "execution_count": 11,
   "metadata": {},
   "outputs": [
    {
     "data": {
      "text/plain": [
       "{'base': 0.01, 'direction': 'up'}"
      ]
     },
     "execution_count": 11,
     "metadata": {},
     "output_type": "execute_result"
    }
   ],
   "source": [
    "from gettsim.shared import add_rounding_spec\n",
    "\n",
    "@add_rounding_spec(base=0.01, direction=\"up\")\n",
    "def your_own_function():\n",
    "    out = 0.2\n",
    "    return out\n",
    "\n",
    "your_own_function.__roundingspec__"
   ]
  },
  {
   "cell_type": "markdown",
   "metadata": {
    "tags": []
   },
   "source": [
    "`direction` needs to be one of 'up', 'down', or 'nearest'"
   ]
  }
 ],
 "metadata": {
  "kernelspec": {
   "display_name": "Python 3",
   "language": "python",
   "name": "python3"
  },
  "language_info": {
   "codemirror_mode": {
    "name": "ipython",
    "version": 3
   },
   "file_extension": ".py",
   "mimetype": "text/x-python",
   "name": "python",
   "nbconvert_exporter": "python",
   "pygments_lexer": "ipython3",
   "version": "3.9.5"
  }
 },
 "nbformat": 4,
 "nbformat_minor": 4
}
